{
 "cells": [
  {
   "cell_type": "code",
   "execution_count": 19,
   "metadata": {},
   "outputs": [
    {
     "name": "stdout",
     "output_type": "stream",
     "text": [
      "Error in retrieving data.\n"
     ]
    }
   ],
   "source": [
    "import requests\n",
    "import csv\n",
    "\n",
    "api_key = 'KENAWTZ8AB21HF85'\n",
    "symbol = '^XTL' \n",
    "interval = '60min'\n",
    "\n",
    "url = f'https://www.alphavantage.co/query?function=TIME_SERIES_INTRADAY&symbol={symbol}&interval={interval}&apikey={api_key}'\n",
    "\n",
    "response = requests.get(url)\n",
    "data = response.json()\n",
    "\n",
    "if 'Time Series (60min)' in data:\n",
    "    hourly_data = data['Time Series (60min)']\n",
    "\n",
    "    with open(f'{symbol}_hourly_data.csv', 'w', newline='') as csvfile:\n",
    "        csv_writer = csv.writer(csvfile)\n",
    "\n",
    "        csv_writer.writerow(['Date', 'Open', 'High', 'Low', 'Close', 'Volume'])\n",
    "\n",
    "        for date, values in hourly_data.items():\n",
    "            row = [date, values['1. open'], values['2. high'], values['3. low'], values['4. close'], values['5. volume']]\n",
    "            csv_writer.writerow(row)\n",
    "\n",
    "    print('Data successfully written to sp500_hourly_data.csv')\n",
    "else:\n",
    "    print('Error in retrieving data.')\n",
    "\n"
   ]
  }
 ],
 "metadata": {
  "kernelspec": {
   "display_name": "time-series",
   "language": "python",
   "name": "python3"
  },
  "language_info": {
   "codemirror_mode": {
    "name": "ipython",
    "version": 3
   },
   "file_extension": ".py",
   "mimetype": "text/x-python",
   "name": "python",
   "nbconvert_exporter": "python",
   "pygments_lexer": "ipython3",
   "version": "3.9.18"
  }
 },
 "nbformat": 4,
 "nbformat_minor": 2
}
